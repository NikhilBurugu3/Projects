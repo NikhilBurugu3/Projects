{
 "cells": [
  {
   "cell_type": "markdown",
   "metadata": {},
   "source": [
    "# Gesture Recognition\n",
    "In this group project, you are going to build a 3D Conv model that will be able to predict the 5 gestures correctly. Please import the following libraries to get started."
   ]
  },
  {
   "cell_type": "code",
   "execution_count": 40,
   "metadata": {},
   "outputs": [],
   "source": [
    "import numpy as np\n",
    "import os\n",
    "from scipy.misc import imread, imresize\n",
    "import datetime\n",
    "import os\n",
    "import matplotlib.pyplot as plt\n",
    "import cv2"
   ]
  },
  {
   "cell_type": "markdown",
   "metadata": {},
   "source": [
    "We set the random seed so that the results don't vary drastically."
   ]
  },
  {
   "cell_type": "code",
   "execution_count": 21,
   "metadata": {},
   "outputs": [],
   "source": [
    "np.random.seed(30)\n",
    "import random as rn\n",
    "rn.seed(30)\n",
    "from keras import backend as K\n",
    "import tensorflow as tf\n",
    "#tf.set_random_seed(30)\n",
    "tf.random.set_seed(30)"
   ]
  },
  {
   "cell_type": "markdown",
   "metadata": {},
   "source": [
    "In this block, you read the folder names for training and validation. You also set the `batch_size` here. Note that you set the batch size in such a way that you are able to use the GPU in full capacity. You keep increasing the batch size until the machine throws an error."
   ]
  },
  {
   "cell_type": "code",
   "execution_count": 189,
   "metadata": {},
   "outputs": [],
   "source": [
    "train_doc = np.random.permutation(open('C:/Users/nibu01/Documents/UpGrad/Assignments/Gesture Recognition/Project_data/Project_data/train.csv').readlines())\n",
    "val_doc = np.random.permutation(open('C:/Users/nibu01/Documents/UpGrad/Assignments/Gesture Recognition/Project_data/Project_data/val.csv').readlines())\n",
    "batch_size = 15"
   ]
  },
  {
   "cell_type": "markdown",
   "metadata": {},
   "source": [
    "## Generator\n",
    "\n",
    "This is one of the most important part of the code. The overall structure of the generator has been given. In the generator, you are going to preprocess the images as you have images of 2 different dimensions as well as create a batch of video frames. You have to experiment with `img_idx`, `y`,`z` and normalization such that you get high accuracy."
   ]
  },
  {
   "cell_type": "code",
   "execution_count": 190,
   "metadata": {},
   "outputs": [],
   "source": [
    "#Image Parameters\n",
    "img_idx = [2,3,5,7,9,11,13,15,16,17,18,19,20,21,22,23,24,25,26]\n",
    "x = len(img_idx)\n",
    "y=120#image_height\n",
    "z=160#image_width\n",
    "z_crop=100"
   ]
  },
  {
   "cell_type": "code",
   "execution_count": 209,
   "metadata": {},
   "outputs": [],
   "source": [
    "def generator(source_path, folder_list, batch_size):\n",
    "    print( 'Source path = ', source_path, '; batch size =', batch_size)\n",
    "\n",
    "    while True:\n",
    "        t = np.random.permutation(folder_list)\n",
    "        num_batches,partial_batches = divmod(len(folder_list),batch_size)\n",
    "        if num_batches>0:\n",
    "            batch_data, batch_labels = batch_process(x,y,z,num_batches,batch_size,source_path,img_idx,t)\n",
    "            yield batch_data, batch_labels\n",
    "            print(len(batch_labels))\n",
    "        # write the code for the remaining data points which are left after full batches    \n",
    "        elif partial_batches>0:\n",
    "            batch_data, batch_labels = batch_process(x,y,z,partial_batches,batch_size,source_path,img_idx,t)\n",
    "            yield batch_data, batch_labels\n",
    "\n",
    "        \n",
    "        \n",
    "def batch_process(x,y,z,num_batches,batch_size,source_path,img_idx,t):\n",
    "    for batch in range(num_batches): # we iterate over the number of batches\n",
    "            batch_data = np.zeros((batch_size,x,y,z_crop,3)) # x is the number of images you use for each video, (y,z) is the final size of the input images and 3 is the number of channels RGB\n",
    "            batch_labels = np.zeros((batch_size,5)) # batch_labels is the one hot representation of the output\n",
    "            for folder in range(batch_size): # iterate over the batch_size\n",
    "                imgs = os.listdir(source_path+'/'+ t[folder + (batch*batch_size)].split(';')[0]) # read all the images in the folder\n",
    "                for idx,item in enumerate(img_idx): #  Iterate iver the frames/images of a folder to read them in\n",
    "                    image = imread(source_path+'/'+ t[folder + (batch*batch_size)].strip().split(';')[0]+'/'+imgs[item]).astype(np.float32)\n",
    "                    #crop the images and resize them. Note that the images are of 2 different shape \n",
    "                    #and the conv3D will throw error if the inputs in a batch have different shapes\n",
    "                    #Resizing the image to 120X160\n",
    "                    #print(\"Before Resizing:::\")\n",
    "                    #print(image.shape)\n",
    "                    image_resized=imresize(image,(y,z,3))\n",
    "                    #print(\"After Resizing:::\")\n",
    "                    #print(image_resized.shape)\n",
    "                    #Cropping the image as the first and last 20 pixels have no useful information\n",
    "                    image_cropped = image_resized[0:120, 20:120]\n",
    "                    #print(\"After Cropping\")\n",
    "                    #print(image_cropped.shape)\n",
    "                    #plt.imshow(cv2.cvtColor(image_cropped, cv2.COLOR_BGR2RGB)) # converting BGR to RGB for using matplotlib\n",
    "                    #plt.show()\n",
    "                    batch_data[folder,idx,:,:,0] = (image_cropped[:,:,0])/255\n",
    "                    batch_data[folder,idx,:,:,1] = (image_cropped[:,:,1])/255\n",
    "                    batch_data[folder,idx,:,:,2] = (image_cropped[:,:,2])/255\n",
    "                    \n",
    "                batch_labels[folder, int(t[folder + (batch*batch_size)].strip().split(';')[2])] = 1\n",
    "            return (batch_data,batch_labels) #you yield the batch_data and the batch_labels, remember what does yield do\n"
   ]
  },
  {
   "cell_type": "code",
   "execution_count": null,
   "metadata": {},
   "outputs": [],
   "source": []
  },
  {
   "cell_type": "markdown",
   "metadata": {},
   "source": [
    "Note here that a video is represented above in the generator as (number of images, height, width, number of channels). Take this into consideration while creating the model architecture."
   ]
  },
  {
   "cell_type": "code",
   "execution_count": 231,
   "metadata": {},
   "outputs": [
    {
     "name": "stdout",
     "output_type": "stream",
     "text": [
      "# training sequences = 663\n",
      "# validation sequences = 100\n",
      "# epochs = 1\n"
     ]
    }
   ],
   "source": [
    "curr_dt_time = datetime.datetime.now()\n",
    "train_path = 'C:/Users/nibu01/Documents/UpGrad/Assignments/Gesture Recognition/Project_data/Project_data/train'\n",
    "val_path = 'C:/Users/nibu01/Documents/UpGrad/Assignments/Gesture Recognition/Project_data/Project_data/val'\n",
    "num_train_sequences = len(train_doc)\n",
    "print('# training sequences =', num_train_sequences)\n",
    "num_val_sequences = len(val_doc)\n",
    "print('# validation sequences =', num_val_sequences)\n",
    "num_epochs = 1# choose the number of epochs\n",
    "print ('# epochs =', num_epochs)"
   ]
  },
  {
   "cell_type": "code",
   "execution_count": 208,
   "metadata": {},
   "outputs": [],
   "source": [
    "#test_generator = generator(train_path, train_doc, batch_size)"
   ]
  },
  {
   "cell_type": "code",
   "execution_count": 193,
   "metadata": {},
   "outputs": [],
   "source": [
    "#next(test_generator)"
   ]
  },
  {
   "cell_type": "code",
   "execution_count": null,
   "metadata": {},
   "outputs": [],
   "source": []
  },
  {
   "cell_type": "markdown",
   "metadata": {},
   "source": [
    "## Model\n",
    "Here you make the model using different functionalities that Keras provides. Remember to use `Conv3D` and `MaxPooling3D` and not `Conv2D` and `Maxpooling2D` for a 3D convolution model. You would want to use `TimeDistributed` while building a Conv2D + RNN model. Also remember that the last layer is the softmax. Design the network in such a way that the model is able to give good accuracy on the least number of parameters so that it can fit in the memory of the webcam."
   ]
  },
  {
   "cell_type": "code",
   "execution_count": 224,
   "metadata": {},
   "outputs": [],
   "source": [
    "from keras.models import Sequential, Model\n",
    "from keras.layers import Dense, GRU, Flatten, TimeDistributed, Flatten, BatchNormalization, Activation,Dropout\n",
    "from keras.layers.convolutional import Conv2D,Conv3D,MaxPooling2D, MaxPooling3D\n",
    "from keras.callbacks import ModelCheckpoint, ReduceLROnPlateau\n",
    "from keras.optimizers import Adam\n",
    "from tensorflow.keras.layers import LSTM\n",
    "#write your model here"
   ]
  },
  {
   "cell_type": "code",
   "execution_count": 211,
   "metadata": {},
   "outputs": [],
   "source": [
    "#Defining the frames,No.of rows etc\n",
    "input_shape=(x,y,z_crop,3)\n",
    "featuremap = [8,16,32,64]\n",
    "dense = [128,64,5]\n",
    "classes = 5"
   ]
  },
  {
   "cell_type": "code",
   "execution_count": 212,
   "metadata": {},
   "outputs": [],
   "source": [
    "model = Sequential()\n",
    "model.add(TimeDistributed(Conv2D(featuremap[0], (3, 3), strides=(2, 2),activation='relu', padding='same'), input_shape=input_shape))\n",
    "model.add(TimeDistributed(Conv2D(featuremap[1], (3,3),padding='same', activation='relu')))\n",
    "model.add(TimeDistributed(MaxPooling2D((2, 2), strides=(2, 2))))\n",
    "\n",
    "model.add(TimeDistributed(Conv2D(featuremap[2], (3,3),padding='same', activation='relu')))\n",
    "model.add(TimeDistributed(MaxPooling2D((2, 2), strides=(2, 2))))\n",
    "\n",
    "model.add(TimeDistributed(Conv2D(featuremap[3], (2,2),padding='same', activation='relu')))\n",
    "model.add(TimeDistributed(MaxPooling2D((2, 2), strides=(2, 2))))\n",
    "\n",
    "model.add(TimeDistributed(BatchNormalization()))\n",
    "model.add(Dropout(0.25))\n",
    "\n",
    "model.add(TimeDistributed(Flatten()))\n",
    "\n",
    "model.add(Dense(dense[0], activation='relu'))\n",
    "model.add(Dropout(0.25))\n",
    "model.add(Dense(dense[1], activation='relu'))\n",
    "model.add(Dropout(0.25))\n",
    "model.add(GRU(128, return_sequences=False))\n",
    "model.add(Dense(dense[2], activation='softmax'))"
   ]
  },
  {
   "cell_type": "markdown",
   "metadata": {},
   "source": [
    "Now that you have written the model, the next step is to `compile` the model. When you print the `summary` of the model, you'll see the total number of parameters you have to train."
   ]
  },
  {
   "cell_type": "code",
   "execution_count": 213,
   "metadata": {
    "scrolled": true
   },
   "outputs": [
    {
     "name": "stdout",
     "output_type": "stream",
     "text": [
      "Model: \"sequential_10\"\n",
      "_________________________________________________________________\n",
      "Layer (type)                 Output Shape              Param #   \n",
      "=================================================================\n",
      "time_distributed_64 (TimeDis (None, 19, 60, 50, 8)     224       \n",
      "_________________________________________________________________\n",
      "time_distributed_65 (TimeDis (None, 19, 60, 50, 16)    1168      \n",
      "_________________________________________________________________\n",
      "time_distributed_66 (TimeDis (None, 19, 30, 25, 16)    0         \n",
      "_________________________________________________________________\n",
      "time_distributed_67 (TimeDis (None, 19, 30, 25, 32)    4640      \n",
      "_________________________________________________________________\n",
      "time_distributed_68 (TimeDis (None, 19, 15, 12, 32)    0         \n",
      "_________________________________________________________________\n",
      "time_distributed_69 (TimeDis (None, 19, 15, 12, 64)    8256      \n",
      "_________________________________________________________________\n",
      "time_distributed_70 (TimeDis (None, 19, 7, 6, 64)      0         \n",
      "_________________________________________________________________\n",
      "time_distributed_71 (TimeDis (None, 19, 7, 6, 64)      256       \n",
      "_________________________________________________________________\n",
      "dropout_18 (Dropout)         (None, 19, 7, 6, 64)      0         \n",
      "_________________________________________________________________\n",
      "time_distributed_72 (TimeDis (None, 19, 2688)          0         \n",
      "_________________________________________________________________\n",
      "dense_16 (Dense)             (None, 19, 128)           344192    \n",
      "_________________________________________________________________\n",
      "dropout_19 (Dropout)         (None, 19, 128)           0         \n",
      "_________________________________________________________________\n",
      "dense_17 (Dense)             (None, 19, 64)            8256      \n",
      "_________________________________________________________________\n",
      "dropout_20 (Dropout)         (None, 19, 64)            0         \n",
      "_________________________________________________________________\n",
      "gru_4 (GRU)                  (None, 128)               74496     \n",
      "_________________________________________________________________\n",
      "dense_18 (Dense)             (None, 5)                 645       \n",
      "=================================================================\n",
      "Total params: 442,133\n",
      "Trainable params: 442,005\n",
      "Non-trainable params: 128\n",
      "_________________________________________________________________\n",
      "None\n"
     ]
    }
   ],
   "source": [
    "optimiser = Adam(0.001)\n",
    "model.compile(optimizer=optimiser, loss='categorical_crossentropy', metrics=['categorical_accuracy'])\n",
    "print (model.summary())"
   ]
  },
  {
   "cell_type": "markdown",
   "metadata": {},
   "source": [
    "Let us create the `train_generator` and the `val_generator` which will be used in `.fit_generator`."
   ]
  },
  {
   "cell_type": "code",
   "execution_count": 214,
   "metadata": {},
   "outputs": [],
   "source": [
    "train_generator = generator(train_path, train_doc, batch_size)\n",
    "val_generator = generator(val_path, val_doc, batch_size)"
   ]
  },
  {
   "cell_type": "code",
   "execution_count": 199,
   "metadata": {},
   "outputs": [
    {
     "name": "stdout",
     "output_type": "stream",
     "text": [
      "WARNING:tensorflow:`period` argument is deprecated. Please use `save_freq` to specify the frequency in number of batches seen.\n",
      "WARNING:tensorflow:`epsilon` argument is deprecated and will be removed, use `min_delta` instead.\n"
     ]
    }
   ],
   "source": [
    "model_name = 'model_init' + '_' + str(curr_dt_time).replace(' ','').replace(':','_') + '/'\n",
    "    \n",
    "if not os.path.exists(model_name):\n",
    "    os.mkdir(model_name)\n",
    "        \n",
    "filepath = model_name + 'model-{epoch:05d}-{loss:.5f}-{categorical_accuracy:.5f}-{val_loss:.5f}-{val_categorical_accuracy:.5f}.h5'\n",
    "\n",
    "checkpoint = ModelCheckpoint(filepath, monitor='val_loss', verbose=1, save_best_only=False, save_weights_only=False, mode='auto', period=1)\n",
    "\n",
    "LR = ReduceLROnPlateau(monitor='val_loss', factor=0.01, patience=5, cooldown=4, verbose=1,mode='auto',epsilon=0.0001)\n",
    "callbacks_list = [checkpoint, LR]"
   ]
  },
  {
   "cell_type": "markdown",
   "metadata": {},
   "source": [
    "The `steps_per_epoch` and `validation_steps` are used by `fit_generator` to decide the number of next() calls it need to make."
   ]
  },
  {
   "cell_type": "code",
   "execution_count": 200,
   "metadata": {},
   "outputs": [],
   "source": [
    "if (num_train_sequences%batch_size) == 0:\n",
    "    steps_per_epoch = int(num_train_sequences/batch_size)\n",
    "else:\n",
    "    steps_per_epoch = (num_train_sequences//batch_size) + 1\n",
    "\n",
    "if (num_val_sequences%batch_size) == 0:\n",
    "    validation_steps = int(num_val_sequences/batch_size)\n",
    "else:\n",
    "    validation_steps = (num_val_sequences//batch_size) + 1"
   ]
  },
  {
   "cell_type": "markdown",
   "metadata": {},
   "source": [
    "Let us now fit the model. This will start training the model and with the help of the checkpoints, you'll be able to save the model at the end of each epoch."
   ]
  },
  {
   "cell_type": "code",
   "execution_count": 215,
   "metadata": {},
   "outputs": [
    {
     "name": "stdout",
     "output_type": "stream",
     "text": [
      "Source path =  C:/Users/nibu01/Documents/UpGrad/Assignments/Gesture Recognition/Project_data/Project_data/train ; batch size = 15\n"
     ]
    },
    {
     "name": "stderr",
     "output_type": "stream",
     "text": [
      "C:\\Users\\nibu01\\Documents\\Python\\lib\\site-packages\\ipykernel_launcher.py:25: DeprecationWarning: `imread` is deprecated!\n",
      "`imread` is deprecated in SciPy 1.0.0, and will be removed in 1.2.0.\n",
      "Use ``imageio.imread`` instead.\n",
      "C:\\Users\\nibu01\\Documents\\Python\\lib\\site-packages\\ipykernel_launcher.py:31: DeprecationWarning: `imresize` is deprecated!\n",
      "`imresize` is deprecated in SciPy 1.0.0, and will be removed in 1.2.0.\n",
      "Use ``skimage.transform.resize`` instead.\n"
     ]
    },
    {
     "name": "stdout",
     "output_type": "stream",
     "text": [
      "15\n",
      " 1/45 [..............................] - ETA: 0s - loss: 1.6904 - categorical_accuracy: 0.133315\n",
      " 2/45 [>.............................] - ETA: 22s - loss: 1.6785 - categorical_accuracy: 0.200015\n",
      " 3/45 [=>............................] - ETA: 30s - loss: 1.6568 - categorical_accuracy: 0.244415\n",
      " 4/45 [=>............................] - ETA: 31s - loss: 1.6108 - categorical_accuracy: 0.266715\n",
      " 5/45 [==>...........................] - ETA: 36s - loss: 1.6209 - categorical_accuracy: 0.293315\n",
      " 6/45 [===>..........................] - ETA: 39s - loss: 1.5905 - categorical_accuracy: 0.266715\n",
      " 7/45 [===>..........................] - ETA: 41s - loss: 1.5820 - categorical_accuracy: 0.276215\n",
      " 8/45 [====>.........................] - ETA: 38s - loss: 1.5665 - categorical_accuracy: 0.266715\n",
      " 9/45 [=====>........................] - ETA: 39s - loss: 1.5759 - categorical_accuracy: 0.244415\n",
      "10/45 [=====>........................] - ETA: 39s - loss: 1.5526 - categorical_accuracy: 0.253315\n",
      "11/45 [======>.......................] - ETA: 38s - loss: 1.5404 - categorical_accuracy: 0.272715\n",
      "12/45 [=======>......................] - ETA: 38s - loss: 1.5208 - categorical_accuracy: 0.294415\n",
      "13/45 [=======>......................] - ETA: 37s - loss: 1.5177 - categorical_accuracy: 0.307715\n",
      "14/45 [========>.....................] - ETA: 37s - loss: 1.5018 - categorical_accuracy: 0.309515\n",
      "15/45 [=========>....................] - ETA: 36s - loss: 1.5031 - categorical_accuracy: 0.320015\n",
      "16/45 [=========>....................] - ETA: 35s - loss: 1.4977 - categorical_accuracy: 0.320815\n",
      "17/45 [==========>...................] - ETA: 34s - loss: 1.4871 - categorical_accuracy: 0.321615\n",
      "18/45 [===========>..................] - ETA: 34s - loss: 1.4798 - categorical_accuracy: 0.325915\n",
      "19/45 [===========>..................] - ETA: 34s - loss: 1.4602 - categorical_accuracy: 0.336815\n",
      "20/45 [============>.................] - ETA: 33s - loss: 1.4504 - categorical_accuracy: 0.343315\n",
      "21/45 [=============>................] - ETA: 32s - loss: 1.4566 - categorical_accuracy: 0.339715\n",
      "22/45 [=============>................] - ETA: 31s - loss: 1.4463 - categorical_accuracy: 0.348515\n",
      "23/45 [==============>...............] - ETA: 30s - loss: 1.4418 - categorical_accuracy: 0.356515\n",
      "24/45 [===============>..............] - ETA: 29s - loss: 1.4283 - categorical_accuracy: 0.366715\n",
      "25/45 [===============>..............] - ETA: 28s - loss: 1.4107 - categorical_accuracy: 0.378715\n",
      "26/45 [================>.............] - ETA: 27s - loss: 1.4016 - categorical_accuracy: 0.387215\n",
      "27/45 [=================>............] - ETA: 26s - loss: 1.3902 - categorical_accuracy: 0.397515\n",
      "28/45 [=================>............] - ETA: 24s - loss: 1.3829 - categorical_accuracy: 0.402415\n",
      "29/45 [==================>...........] - ETA: 23s - loss: 1.3706 - categorical_accuracy: 0.413815\n",
      "30/45 [===================>..........] - ETA: 22s - loss: 1.3667 - categorical_accuracy: 0.415615\n",
      "31/45 [===================>..........] - ETA: 20s - loss: 1.3550 - categorical_accuracy: 0.421515\n",
      "32/45 [====================>.........] - ETA: 19s - loss: 1.3414 - categorical_accuracy: 0.429215\n",
      "33/45 [=====================>........] - ETA: 17s - loss: 1.3489 - categorical_accuracy: 0.424215\n",
      "34/45 [=====================>........] - ETA: 16s - loss: 1.3482 - categorical_accuracy: 0.427515\n",
      "35/45 [======================>.......] - ETA: 14s - loss: 1.3338 - categorical_accuracy: 0.436215\n",
      "36/45 [=======================>......] - ETA: 13s - loss: 1.3224 - categorical_accuracy: 0.442615\n",
      "37/45 [=======================>......] - ETA: 11s - loss: 1.3292 - categorical_accuracy: 0.443215\n",
      "38/45 [========================>.....] - ETA: 10s - loss: 1.3221 - categorical_accuracy: 0.447415\n",
      "39/45 [=========================>....] - ETA: 8s - loss: 1.3164 - categorical_accuracy: 0.4496 15\n",
      "40/45 [=========================>....] - ETA: 7s - loss: 1.3063 - categorical_accuracy: 0.453315\n",
      "41/45 [==========================>...] - ETA: 6s - loss: 1.3147 - categorical_accuracy: 0.453715\n",
      "42/45 [===========================>..] - ETA: 4s - loss: 1.3006 - categorical_accuracy: 0.458715\n",
      "43/45 [===========================>..] - ETA: 3s - loss: 1.2928 - categorical_accuracy: 0.463615\n",
      "44/45 [============================>.] - ETA: 1s - loss: 1.2815 - categorical_accuracy: 0.468215\n",
      "45/45 [==============================] - ETA: 0s - loss: 1.2801 - categorical_accuracy: 0.4667Source path =  C:/Users/nibu01/Documents/UpGrad/Assignments/Gesture Recognition/Project_data/Project_data/val ; batch size = 15\n",
      "15\n",
      "15\n",
      "15\n",
      "15\n",
      "15\n",
      "15\n",
      "15\n",
      "\n",
      "Epoch 00001: saving model to model_init_2020-10-3122_36_07.387523\\model-00001-1.28008-0.46667-1.57699-0.31429.h5\n",
      "45/45 [==============================] - 83s 2s/step - loss: 1.2801 - categorical_accuracy: 0.4667 - val_loss: 1.5770 - val_categorical_accuracy: 0.3143\n"
     ]
    }
   ],
   "source": [
    "history = model.fit_generator(train_generator, steps_per_epoch=steps_per_epoch, epochs=num_epochs, verbose=1, \n",
    "                    callbacks=callbacks_list, validation_data=val_generator, \n",
    "                    validation_steps=validation_steps, class_weight=None, workers=1, initial_epoch=0)"
   ]
  },
  {
   "cell_type": "code",
   "execution_count": 219,
   "metadata": {},
   "outputs": [],
   "source": [
    "def plot(history):\n",
    "    fig, axes = plt.subplots(nrows=1, ncols=2, figsize=(15,4))\n",
    "    axes[0].plot(history.history['loss'])   \n",
    "    axes[0].plot(history.history['val_loss'])\n",
    "    axes[0].legend(['loss','val_loss'])\n",
    "\n",
    "    axes[1].plot(history.history['categorical_accuracy'])   \n",
    "    axes[1].plot(history.history['val_categorical_accuracy'])\n",
    "    axes[1].legend(['categorical_accuracy','val_categorical_accuracy'])"
   ]
  },
  {
   "cell_type": "code",
   "execution_count": 220,
   "metadata": {},
   "outputs": [
    {
     "data": {
      "image/png": "[encoded data removed]",
      "text/plain": [
       "<Figure size 1080x288 with 2 Axes>"
      ]
     },
     "metadata": {
      "needs_background": "light"
     },
     "output_type": "display_data"
    }
   ],
   "source": [
    "plot(history)"
   ]
  },
  {
   "cell_type": "code",
   "execution_count": 229,
   "metadata": {},
   "outputs": [],
   "source": [
    "model_lstm = Sequential()\n",
    "model_lstm.add(LSTM(2048, return_sequences=False,input_shape=(1000,5),dropout=0.5))\n",
    "model_lstm.add(Dense(512, activation='relu'))\n",
    "model_lstm.add(Dropout(0.5))\n",
    "model_lstm.add(Dense(5, activation='softmax'))"
   ]
  },
  {
   "cell_type": "code",
   "execution_count": 230,
   "metadata": {},
   "outputs": [
    {
     "name": "stdout",
     "output_type": "stream",
     "text": [
      "Model: \"sequential_16\"\n",
      "_________________________________________________________________\n",
      "Layer (type)                 Output Shape              Param #   \n",
      "=================================================================\n",
      "lstm_4 (LSTM)                (None, 2048)              16826368  \n",
      "_________________________________________________________________\n",
      "dense_20 (Dense)             (None, 512)               1049088   \n",
      "_________________________________________________________________\n",
      "dropout_22 (Dropout)         (None, 512)               0         \n",
      "_________________________________________________________________\n",
      "dense_21 (Dense)             (None, 5)                 2565      \n",
      "=================================================================\n",
      "Total params: 17,878,021\n",
      "Trainable params: 17,878,021\n",
      "Non-trainable params: 0\n",
      "_________________________________________________________________\n",
      "None\n"
     ]
    }
   ],
   "source": [
    "optimiser = Adam(0.001)\n",
    "model_lstm.compile(optimizer=optimiser, loss='categorical_crossentropy', metrics=['categorical_accuracy'])\n",
    "print (model_lstm.summary())"
   ]
  },
  {
   "cell_type": "code",
   "execution_count": 232,
   "metadata": {},
   "outputs": [
    {
     "name": "stdout",
     "output_type": "stream",
     "text": [
      "15\n"
     ]
    },
    {
     "name": "stderr",
     "output_type": "stream",
     "text": [
      "C:\\Users\\nibu01\\Documents\\Python\\lib\\site-packages\\ipykernel_launcher.py:25: DeprecationWarning: `imread` is deprecated!\n",
      "`imread` is deprecated in SciPy 1.0.0, and will be removed in 1.2.0.\n",
      "Use ``imageio.imread`` instead.\n",
      "C:\\Users\\nibu01\\Documents\\Python\\lib\\site-packages\\ipykernel_launcher.py:31: DeprecationWarning: `imresize` is deprecated!\n",
      "`imresize` is deprecated in SciPy 1.0.0, and will be removed in 1.2.0.\n",
      "Use ``skimage.transform.resize`` instead.\n"
     ]
    },
    {
     "name": "stdout",
     "output_type": "stream",
     "text": [
      "15\n",
      " 1/45 [..............................] - ETA: 0s - loss: 1.0334 - categorical_accuracy: 0.600015\n",
      " 2/45 [>.............................] - ETA: 23s - loss: 1.0078 - categorical_accuracy: 0.600015\n",
      " 3/45 [=>............................] - ETA: 33s - loss: 0.9232 - categorical_accuracy: 0.622215\n",
      " 4/45 [=>............................] - ETA: 38s - loss: 0.8750 - categorical_accuracy: 0.650015\n",
      " 5/45 [==>...........................] - ETA: 41s - loss: 0.9199 - categorical_accuracy: 0.600015\n",
      " 6/45 [===>..........................] - ETA: 41s - loss: 0.9533 - categorical_accuracy: 0.588915\n",
      " 7/45 [===>..........................] - ETA: 39s - loss: 0.9126 - categorical_accuracy: 0.609515\n",
      " 8/45 [====>.........................] - ETA: 39s - loss: 0.9671 - categorical_accuracy: 0.600015\n",
      " 9/45 [=====>........................] - ETA: 37s - loss: 0.9447 - categorical_accuracy: 0.607415\n",
      "10/45 [=====>........................] - ETA: 37s - loss: 0.9798 - categorical_accuracy: 0.586715\n",
      "11/45 [======>.......................] - ETA: 39s - loss: 0.9618 - categorical_accuracy: 0.600015\n",
      "12/45 [=======>......................] - ETA: 38s - loss: 0.9393 - categorical_accuracy: 0.616715\n",
      "13/45 [=======>......................] - ETA: 37s - loss: 0.9251 - categorical_accuracy: 0.620515\n",
      "14/45 [========>.....................] - ETA: 37s - loss: 0.9163 - categorical_accuracy: 0.623815\n",
      "15/45 [=========>....................] - ETA: 37s - loss: 0.9216 - categorical_accuracy: 0.631115\n",
      "16/45 [=========>....................] - ETA: 35s - loss: 0.8997 - categorical_accuracy: 0.650015\n",
      "17/45 [==========>...................] - ETA: 35s - loss: 0.8871 - categorical_accuracy: 0.651015\n",
      "18/45 [===========>..................] - ETA: 33s - loss: 0.8812 - categorical_accuracy: 0.648115\n",
      "19/45 [===========>..................] - ETA: 33s - loss: 0.8754 - categorical_accuracy: 0.656115\n",
      "20/45 [============>.................] - ETA: 32s - loss: 0.8675 - categorical_accuracy: 0.656715\n",
      "21/45 [=============>................] - ETA: 32s - loss: 0.8666 - categorical_accuracy: 0.657115\n",
      "22/45 [=============>................] - ETA: 31s - loss: 0.8562 - categorical_accuracy: 0.657615\n",
      "23/45 [==============>...............] - ETA: 30s - loss: 0.8465 - categorical_accuracy: 0.666715\n",
      "24/45 [===============>..............] - ETA: 29s - loss: 0.8267 - categorical_accuracy: 0.675015\n",
      "25/45 [===============>..............] - ETA: 28s - loss: 0.8433 - categorical_accuracy: 0.664015\n",
      "26/45 [================>.............] - ETA: 26s - loss: 0.8397 - categorical_accuracy: 0.664115\n",
      "27/45 [=================>............] - ETA: 25s - loss: 0.8304 - categorical_accuracy: 0.666715\n",
      "28/45 [=================>............] - ETA: 24s - loss: 0.8279 - categorical_accuracy: 0.669015\n",
      "29/45 [==================>...........] - ETA: 22s - loss: 0.8247 - categorical_accuracy: 0.669015\n",
      "30/45 [===================>..........] - ETA: 21s - loss: 0.8157 - categorical_accuracy: 0.673315\n",
      "31/45 [===================>..........] - ETA: 19s - loss: 0.8085 - categorical_accuracy: 0.675315\n",
      "32/45 [====================>.........] - ETA: 18s - loss: 0.8037 - categorical_accuracy: 0.677115\n",
      "33/45 [=====================>........] - ETA: 17s - loss: 0.7984 - categorical_accuracy: 0.680815\n",
      "34/45 [=====================>........] - ETA: 15s - loss: 0.8025 - categorical_accuracy: 0.680415\n",
      "35/45 [======================>.......] - ETA: 14s - loss: 0.8058 - categorical_accuracy: 0.678115\n",
      "36/45 [=======================>......] - ETA: 13s - loss: 0.8056 - categorical_accuracy: 0.681515\n",
      "37/45 [=======================>......] - ETA: 11s - loss: 0.8004 - categorical_accuracy: 0.686515\n",
      "38/45 [========================>.....] - ETA: 10s - loss: 0.7987 - categorical_accuracy: 0.687715\n",
      "39/45 [=========================>....] - ETA: 8s - loss: 0.8008 - categorical_accuracy: 0.6838 15\n",
      "40/45 [=========================>....] - ETA: 7s - loss: 0.8043 - categorical_accuracy: 0.676715\n",
      "41/45 [==========================>...] - ETA: 5s - loss: 0.7948 - categorical_accuracy: 0.679715\n",
      "42/45 [===========================>..] - ETA: 4s - loss: 0.7904 - categorical_accuracy: 0.681015\n",
      "43/45 [===========================>..] - ETA: 3s - loss: 0.7834 - categorical_accuracy: 0.683715\n",
      "44/45 [============================>.] - ETA: 1s - loss: 0.7839 - categorical_accuracy: 0.684815\n",
      "45/45 [==============================] - ETA: 0s - loss: 0.7808 - categorical_accuracy: 0.685915\n",
      "15\n",
      "15\n",
      "15\n",
      "15\n",
      "15\n",
      "15\n",
      "15\n",
      "\n",
      "Epoch 00001: saving model to model_init_2020-10-3122_36_07.387523\\model-00001-0.78084-0.68593-1.51670-0.39048.h5\n",
      "45/45 [==============================] - 81s 2s/step - loss: 0.7808 - categorical_accuracy: 0.6859 - val_loss: 1.5167 - val_categorical_accuracy: 0.3905\n"
     ]
    }
   ],
   "source": [
    "lstm_model = model.fit_generator(train_generator, steps_per_epoch=steps_per_epoch, epochs=num_epochs, verbose=1, \n",
    "                    callbacks=callbacks_list, validation_data=val_generator, \n",
    "                    validation_steps=validation_steps, class_weight=None, workers=1, initial_epoch=0)"
   ]
  },
  {
   "cell_type": "code",
   "execution_count": null,
   "metadata": {},
   "outputs": [],
   "source": []
  }
 ],
 "metadata": {
  "kernelspec": {
   "display_name": "Python 3",
   "language": "python",
   "name": "python3"
  },
  "language_info": {
   "codemirror_mode": {
    "name": "ipython",
    "version": 3
   },
   "file_extension": ".py",
   "mimetype": "text/x-python",
   "name": "python",
   "nbconvert_exporter": "python",
   "pygments_lexer": "ipython3",
   "version": "3.7.4"
  }
 },
 "nbformat": 4,
 "nbformat_minor": 2
}
